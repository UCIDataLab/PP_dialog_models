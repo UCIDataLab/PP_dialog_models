{
 "cells": [
  {
   "cell_type": "markdown",
   "metadata": {},
   "source": [
    "### Remove pkl files to re-generate models"
   ]
  },
  {
   "cell_type": "code",
   "execution_count": 1,
   "metadata": {
    "collapsed": false
   },
   "outputs": [
    {
     "name": "stdout",
     "output_type": "stream",
     "text": [
      "Removing corpus.pkl\n",
      "Removing corpus_te.pkl\n",
      "Removing label.pkl\n",
      "Removing lrdialog_mult_08.pkl\n",
      "Removing label_cleaned.pkl\n",
      "Removing vocab.pkl\n"
     ]
    }
   ],
   "source": [
    "import os\n",
    "for fname in os.listdir(\"./\"):\n",
    "    if fname.endswith(\"pkl\"):\n",
    "        os.remove('./'+fname)\n",
    "        print \"Removing \"+fname"
   ]
  },
  {
   "cell_type": "markdown",
   "metadata": {
    "collapsed": true
   },
   "source": [
    "# Data\n",
    "## File Paths\n",
    "Set the data paths (for training, only when it's available)<br>\n",
    "(Download sample data here: [train](https://drive.google.com/open?id=1HN5L6kkh9mYa7vQ_W-H9InW_kgQbFfrR), [test](https://drive.google.com/open?id=1s_P7IrmGJFN6OTLKOrQSUz8TTcyNF6fS), private data.)"
   ]
  },
  {
   "cell_type": "code",
   "execution_count": 2,
   "metadata": {
    "collapsed": true
   },
   "outputs": [],
   "source": [
    "tr_data_file = './mhd.4.25.18_sample_tr.txt'\n",
    "te_data_file = './mhd.4.25.18_sample_te.txt'"
   ]
  },
  {
   "cell_type": "markdown",
   "metadata": {},
   "source": [
    "## Data Classes\n",
    "Training and test data classes are slightly different since labels and vocabulary are determined only at the training step."
   ]
  },
  {
   "cell_type": "code",
   "execution_count": 3,
   "metadata": {
    "collapsed": true
   },
   "outputs": [],
   "source": [
    "from mhddata import MHDTrainData, MHDTestData"
   ]
  },
  {
   "cell_type": "markdown",
   "metadata": {},
   "source": [
    "### Training data: Below lines will run inside the function `.fit_model`"
   ]
  },
  {
   "cell_type": "code",
   "execution_count": 4,
   "metadata": {
    "collapsed": false
   },
   "outputs": [
    {
     "name": "stdout",
     "output_type": "stream",
     "text": [
      "Loading and preprocessing the corpus with labels\n",
      "  Cleaning the corpus (removing punctuations..)\n",
      "            0 utterances\n",
      "         5000 utterances\n",
      "        10000 utterances\n",
      "        15000 utterances\n",
      "        20000 utterances\n",
      "        25000 utterances\n",
      "        30000 utterances\n",
      "        35000 utterances\n",
      "        40000 utterances\n",
      "        45000 utterances\n",
      "        50000 utterances\n",
      "        55000 utterances\n",
      "        60000 utterances\n",
      "        65000 utterances\n",
      "        70000 utterances\n",
      "        75000 utterances\n",
      "        80000 utterances\n",
      "        85000 utterances\n",
      "        90000 utterances\n",
      "  Extracting noun phrases..\n",
      "Cleaning labels ..\n",
      "  16 OtherAddictions --> 37 Other\n",
      "  18 Death --> 37 Other\n",
      "  19 Bereavement --> 37 Other\n",
      "  20 PainSuffering --> 37 Other\n",
      "  24 ActivityDailyLiving --> 37 Other\n",
      "  26 Unemployment --> 37 Other\n",
      "  27 MoneyBenefits --> 37 Other\n",
      "  28 Caregiver --> 37 Other\n",
      "  31 Religion --> 37 Other\n",
      "  32 Age --> 37 Other\n",
      "  33 LivingWillAdvanceCarePlanning --> 37 Other\n",
      "  35 MDPT-Relationship --> 37 Other\n",
      "  5 Prognosis --> 37 Other\n",
      "Getting lists of valid session/utterance IDs that have both text and labels\n"
     ]
    }
   ],
   "source": [
    "mhdtrain = MHDTrainData(tr_data_file, nouns_only=False, ignore_case=True,\n",
    "                 remove_numbers=False, sub_numbers=True, stopwords_dir=\"./stopwordlists\",\n",
    "                 label_mappings=None, ngram_range=(1,1), max_np_len=2, min_wlen=1,\n",
    "                 min_dfreq=0, max_dfreq=0.8, min_sfreq=20,\n",
    "                 token_pattern=r\"(?u)[A-Za-z\\?\\!\\-\\.']+\", verbose=3,  # can control verbosity\n",
    "                 corpus_pkl='./corpus.pkl', label_pkl='./label.pkl', vocab_pkl='./vocab.pkl')"
   ]
  },
  {
   "cell_type": "code",
   "execution_count": 6,
   "metadata": {
    "collapsed": false
   },
   "outputs": [
    {
     "name": "stdout",
     "output_type": "stream",
     "text": [
      "Number of sessions: 209 (ones that have text)\n",
      "Number of sessions: 209 (ones that have labels)\n",
      "Number of sessions: 209 (ones that have both text and labels)\n",
      "Number of segments: 6565 (ones that have both text and labels)\n",
      "Number of utterances: 92739 (ones that have both text and labels)\n",
      "Number of labels that originally had: 38 (including the ones that appear in the sessions without text)\n",
      "Number of labels: 25 (after cleaning the labels)\n",
      "Vocabulary size: 13091\n",
      "Number of user-defined stopwords: 553\n",
      "Number of stopwords used in total: 553 (including the words with low dfs and high dfs)\n"
     ]
    }
   ],
   "source": [
    "mhdtrain.print_stats()  # you could always print out the stats"
   ]
  },
  {
   "cell_type": "code",
   "execution_count": 6,
   "metadata": {
    "collapsed": false
   },
   "outputs": [
    {
     "data": {
      "text/plain": [
       "[u\"'em\",\n",
       " u\"'ll\",\n",
       " u\"'til\",\n",
       " u'-laugh-',\n",
       " u'-location-',\n",
       " u'-location- glasses',\n",
       " u'-location- hospital',\n",
       " u'-location- juice',\n",
       " u'-name-',\n",
       " u'-num-',\n",
       " u'-num- -num-',\n",
       " u'-num- bucks',\n",
       " u'-num- calories',\n",
       " u'-num- cents',\n",
       " u'-num- days',\n",
       " u'-num- degrees',\n",
       " u'-num- dollars',\n",
       " u'-num- hours',\n",
       " u'-num- mg',\n",
       " u'-num- mile',\n",
       " u'-num- milligram',\n",
       " u'-num- milligrams',\n",
       " u'-num- minutes',\n",
       " u'-num- months',\n",
       " u'-num- ounces',\n",
       " u'-num- percent',\n",
       " u'-num- points',\n",
       " u'-num- pounds',\n",
       " u'-num- th',\n",
       " u'-num- thats',\n",
       " u'-num- units',\n",
       " u'-num- weeks',\n",
       " u'-num- year',\n",
       " u'-num- years',\n",
       " u'-num- youre',\n",
       " u'-yearold',\n",
       " u'-yearsold',\n",
       " u'?',\n",
       " u'aaa',\n",
       " u'aaah',\n",
       " u'aah',\n",
       " u'aarp',\n",
       " u'aback',\n",
       " u'abbreviated',\n",
       " u'abbreviations',\n",
       " u'abcd',\n",
       " u'abd',\n",
       " u'abdicating',\n",
       " u'abdomen',\n",
       " u'abdominal',\n",
       " u'abdominal pain',\n",
       " u'abdominals',\n",
       " u'abdominoplasty',\n",
       " u'abduct',\n",
       " u'abducted',\n",
       " u'abduction',\n",
       " u'aberration',\n",
       " u'abi',\n",
       " u'ability',\n",
       " u'abno',\n",
       " u'abnopathy',\n",
       " u'abnorm',\n",
       " u'abnormal',\n",
       " u'abnormalities',\n",
       " u'abnormality',\n",
       " u'abnormals',\n",
       " u'abort',\n",
       " u'abortion',\n",
       " u'abortions',\n",
       " u'abouti',\n",
       " u'abouts',\n",
       " u'aboutyou',\n",
       " u'abrasive',\n",
       " u'abrupt',\n",
       " u'abs',\n",
       " u'abscess',\n",
       " u'absent',\n",
       " u'absolute',\n",
       " u'absolutely',\n",
       " u'absorb',\n",
       " u'absorbed',\n",
       " u'absorbing',\n",
       " u'absorbs',\n",
       " u'absorption',\n",
       " u'abundant',\n",
       " u'abuse',\n",
       " u'abused',\n",
       " u'abuses',\n",
       " u'abusive',\n",
       " u'abut',\n",
       " u'ac',\n",
       " u'acc',\n",
       " u'accelerated',\n",
       " u'accept',\n",
       " u'acceptable',\n",
       " u'accepted',\n",
       " u'accepting',\n",
       " u'access',\n",
       " u'accident',\n",
       " u'accidentally',\n",
       " u'accidents',\n",
       " u'acclimatize',\n",
       " u'accommodate',\n",
       " u'accompanies',\n",
       " u'accompany',\n",
       " u'accompanying',\n",
       " u'accomplish',\n",
       " u'accomplished',\n",
       " u'according',\n",
       " u'accordingly',\n",
       " u'account',\n",
       " u'accountability',\n",
       " u'accountant',\n",
       " u'accounts',\n",
       " u'accucheck',\n",
       " u'accumulate',\n",
       " u'accumulates',\n",
       " u'accurac',\n",
       " u'accuracy',\n",
       " u'accurate',\n",
       " u'accurately',\n",
       " u'accustomed',\n",
       " u'ace',\n",
       " u'acetone',\n",
       " u'ach',\n",
       " u'acharilles',\n",
       " u'ache',\n",
       " u'aches',\n",
       " u'achieve',\n",
       " u'achieved',\n",
       " u'achilles',\n",
       " u'achiness',\n",
       " u'aching',\n",
       " u'achy',\n",
       " u'acid',\n",
       " u'acid reflux',\n",
       " u'acidophilus',\n",
       " u'acids',\n",
       " u'acidy',\n",
       " u'acl',\n",
       " u'acquire',\n",
       " u'acquiring',\n",
       " u'acquisition',\n",
       " u'acres',\n",
       " u'act',\n",
       " u'acting',\n",
       " u'action',\n",
       " u'activate',\n",
       " u'activated',\n",
       " u'active',\n",
       " u'actively',\n",
       " u'activia',\n",
       " u'activities',\n",
       " u'activity',\n",
       " u'actonal',\n",
       " u'actonel',\n",
       " u'actos',\n",
       " u'acts',\n",
       " u'actual',\n",
       " u'actuality',\n",
       " u'actually',\n",
       " u'actuallyit',\n",
       " u'acuity',\n",
       " u'acupuncture',\n",
       " u'acute',\n",
       " u'acyclovir',\n",
       " u'ad',\n",
       " u'adalat',\n",
       " u'adalot',\n",
       " u'adamant',\n",
       " u'adapt',\n",
       " u'add',\n",
       " u'added',\n",
       " u'adderall',\n",
       " u'addict',\n",
       " u'addicted',\n",
       " u'addicting',\n",
       " u'addiction',\n",
       " u'addictive',\n",
       " u'adding',\n",
       " u'addition',\n",
       " u'additional',\n",
       " u'additives',\n",
       " u'address',\n",
       " u'addressed',\n",
       " u'addresses',\n",
       " u'addressing',\n",
       " u'adds',\n",
       " u'adelac',\n",
       " u'adenoid',\n",
       " u'adenoidectomy',\n",
       " u'adenopathy',\n",
       " u'adequate',\n",
       " u'adequately',\n",
       " u'adjectives',\n",
       " u'adjust',\n",
       " u'adjusted',\n",
       " u'adjusting',\n",
       " u'adjustment',\n",
       " u'adjustments',\n",
       " u'administer',\n",
       " u'administration',\n",
       " u'administrative',\n",
       " u'admissions',\n",
       " u'admit',\n",
       " u'admitted',\n",
       " u'admitting',\n",
       " u'adonna',\n",
       " u'adonopathy',\n",
       " u'adopt',\n",
       " u'adopted',\n",
       " u'adoption',\n",
       " u'adoptions',\n",
       " u'adorable',\n",
       " u'ads',\n",
       " u'adult',\n",
       " u'adults',\n",
       " u'advair',\n",
       " u'advance',\n",
       " u'advanced',\n",
       " u'advancements',\n",
       " u'advantage',\n",
       " u'advantages',\n",
       " u'adventure',\n",
       " u'adventures',\n",
       " u'adventuresomely',\n",
       " u'adventureyou',\n",
       " u'advere',\n",
       " u'adverse',\n",
       " u'advertise',\n",
       " u'advertised',\n",
       " u'advertisement',\n",
       " u'advertising',\n",
       " u'advice',\n",
       " u'advil',\n",
       " u'advils',\n",
       " u'advir',\n",
       " u'advise',\n",
       " u'advised',\n",
       " u'advises',\n",
       " u'advising',\n",
       " u'advisor',\n",
       " u'advocacy',\n",
       " u'advocate',\n",
       " u'advocates',\n",
       " u'adxl',\n",
       " u'aerobic',\n",
       " u'aerobic exercise',\n",
       " u'aerobics',\n",
       " u'aerospace',\n",
       " u'aesthetic',\n",
       " u'aetna',\n",
       " u'afebrile',\n",
       " u'affect',\n",
       " u'affected',\n",
       " u'affecting',\n",
       " u'affective',\n",
       " u'affects',\n",
       " u'affiliated',\n",
       " u'affiliation',\n",
       " u'afford',\n",
       " u'affordable',\n",
       " u'aflac',\n",
       " u'afraid',\n",
       " u'africa',\n",
       " u'african',\n",
       " u'africanamerican',\n",
       " u'afrin',\n",
       " u'afternoon',\n",
       " u'afternoons',\n",
       " u'afterward',\n",
       " u'age',\n",
       " u'age -num-',\n",
       " u'aged',\n",
       " u'agell',\n",
       " u'agent',\n",
       " u'agents',\n",
       " u'ageold',\n",
       " u'agerelate',\n",
       " u'ages',\n",
       " u'aggravate',\n",
       " u'aggravated',\n",
       " u'aggravates',\n",
       " u'aggravating',\n",
       " u'aggravation',\n",
       " u'aggrenox',\n",
       " u'aggressive',\n",
       " u'aggressively',\n",
       " u'agile',\n",
       " u'aging',\n",
       " u'agitate',\n",
       " u'aglanox',\n",
       " u'ago',\n",
       " u'agoi',\n",
       " u'agoish',\n",
       " u'agoit',\n",
       " u'agree',\n",
       " u'agreeable',\n",
       " u'agreed',\n",
       " u'agreeing',\n",
       " u'agreement',\n",
       " u'agrees',\n",
       " u'agriculture',\n",
       " u'aha',\n",
       " u'ahah',\n",
       " u'ahead',\n",
       " u'ahem',\n",
       " u'ahha',\n",
       " u'ahhh',\n",
       " u'ahhhh',\n",
       " u'ahhhhh',\n",
       " u'ahhhhhhhhhh',\n",
       " u'ahhis',\n",
       " u'ahshould',\n",
       " u'ahyiyi',\n",
       " u'ai',\n",
       " u'aid',\n",
       " u'aide',\n",
       " u'aids',\n",
       " u'ail',\n",
       " u'ailments',\n",
       " u'aim',\n",
       " u'aimed',\n",
       " u'aint',\n",
       " u'air',\n",
       " u'airconditioned',\n",
       " u'airconditioning',\n",
       " u'aired',\n",
       " u'airplane',\n",
       " u'airplanes',\n",
       " u'airport',\n",
       " u'airways',\n",
       " u'aisle',\n",
       " u'ait',\n",
       " u'ajmh',\n",
       " u'ake',\n",
       " u'al',\n",
       " u'alanon',\n",
       " u'alarm',\n",
       " u'alarmed',\n",
       " u'alarming',\n",
       " u'alarms',\n",
       " u'album',\n",
       " u'albumin',\n",
       " u'albuterol',\n",
       " u'albuterol inhaler',\n",
       " u'albuteroli',\n",
       " u'albuterral',\n",
       " u'alcohol',\n",
       " u'alcohol intake',\n",
       " u'alcoholic',\n",
       " u'alcoholism',\n",
       " u'alcorvia',\n",
       " u'aldactone',\n",
       " u'alechrinon',\n",
       " u'alegra',\n",
       " u'alert',\n",
       " u'alesse',\n",
       " u'aleve',\n",
       " u'aleves',\n",
       " u'alfredo',\n",
       " u'algebra',\n",
       " u'alien',\n",
       " u'alight',\n",
       " u'align',\n",
       " u'alignment',\n",
       " u'alike',\n",
       " u'alipurinol',\n",
       " u'alive',\n",
       " u'allegheny',\n",
       " u'allegra',\n",
       " u'allegrad',\n",
       " u'allegras',\n",
       " u'allen',\n",
       " u'allergens',\n",
       " u'allergeric',\n",
       " u'allergic',\n",
       " u'allergies',\n",
       " u'allergist',\n",
       " u'allergra',\n",
       " u'allergy',\n",
       " u'alleviate',\n",
       " u'alley',\n",
       " u'alli',\n",
       " u'alliance',\n",
       " u'allinclusive',\n",
       " u'allipex',\n",
       " u'allopurinol',\n",
       " u'allow',\n",
       " u'allowed',\n",
       " u'allowing',\n",
       " u'allows',\n",
       " u'allwhat',\n",
       " u'ally',\n",
       " u'almond',\n",
       " u'almonds',\n",
       " u'alpha',\n",
       " u'alphabet',\n",
       " u'alphafetoprotein',\n",
       " u'alphagan',\n",
       " u'alprazolam',\n",
       " u'alrght',\n",
       " u'alrigh',\n",
       " u'alrighta',\n",
       " u'alrightly',\n",
       " u'alrighty',\n",
       " u'altace',\n",
       " u'alteration',\n",
       " u'altering',\n",
       " u'alternate',\n",
       " u'alternates',\n",
       " u'alternative',\n",
       " u'alternatives',\n",
       " u'althoug',\n",
       " u'altogether',\n",
       " u'alton',\n",
       " u'altunerol',\n",
       " u'aluminum',\n",
       " u'alwayswe',\n",
       " u'alzheimers',\n",
       " u'am-e-r-ge',\n",
       " u'amalodipine',\n",
       " u'amantadine',\n",
       " u'amazed',\n",
       " u'amazing',\n",
       " u'amazingly',\n",
       " u'ambien',\n",
       " u'ambition',\n",
       " u'ambrien',\n",
       " u'ambulance',\n",
       " u'ambulances',\n",
       " u'amerge',\n",
       " u'america',\n",
       " u'american',\n",
       " u'americans',\n",
       " u'americas',\n",
       " u'amitriptyline',\n",
       " u'amlodipine',\n",
       " u'amnesia',\n",
       " u'amounts',\n",
       " u'amoxicillin',\n",
       " u'amphetamine',\n",
       " u'ample',\n",
       " u'amplification',\n",
       " u'amplified',\n",
       " u'amputa',\n",
       " u'amputated',\n",
       " u'amputation',\n",
       " u'amputations',\n",
       " u'amsterdam',\n",
       " u'anacin',\n",
       " u'anagrams',\n",
       " u'anal',\n",
       " u'analysis',\n",
       " u'analyst',\n",
       " u'anaplastic',\n",
       " u'anapox',\n",
       " u'anaprox',\n",
       " u'anaproxen',\n",
       " u'anatomic',\n",
       " u'anatomy',\n",
       " u'ancien',\n",
       " u'ancient',\n",
       " u'andi',\n",
       " u'andit',\n",
       " u'andno',\n",
       " u'andoc',\n",
       " u'anemia',\n",
       " u'anemic',\n",
       " u'anesthesia',\n",
       " u'anesthesiologist',\n",
       " u'anesthetic',\n",
       " u'anesthetics',\n",
       " u'anesthetized',\n",
       " u'anestitize',\n",
       " u'aneurism',\n",
       " u'aneurysm',\n",
       " u'angel',\n",
       " u'anger',\n",
       " u'angina',\n",
       " u'angio',\n",
       " u'angiogram',\n",
       " u'angiography',\n",
       " u'angioma',\n",
       " u'angioplasty',\n",
       " u'angle',\n",
       " u'anglosaxon',\n",
       " u'angry',\n",
       " u'angulated',\n",
       " u'animal',\n",
       " u'animals',\n",
       " u'ank',\n",
       " u'ankle',\n",
       " u'anklebrachial',\n",
       " u'ankles',\n",
       " u'anniversary',\n",
       " u'announce',\n",
       " u'annoyance',\n",
       " u'annoyed',\n",
       " u'annoying',\n",
       " u'annual',\n",
       " u'annually',\n",
       " u'anomaly',\n",
       " u'anonymous',\n",
       " u'answer',\n",
       " u'answered',\n",
       " u'answering',\n",
       " u'answering machine',\n",
       " u'answers',\n",
       " u'antacids',\n",
       " u'anterior',\n",
       " u'anthem',\n",
       " u'anti',\n",
       " u'anti bodies',\n",
       " u'antiacid',\n",
       " u'antianxiety',\n",
       " u'antibacterial',\n",
       " u'antibiotic',\n",
       " u'antibiotics',\n",
       " u'antibodies',\n",
       " u'antibody',\n",
       " u'antiburping',\n",
       " u'anticholinergic',\n",
       " u'anticipate',\n",
       " u'anticipation',\n",
       " u'anticoagulation',\n",
       " u'antidepressant',\n",
       " u'antidepressants',\n",
       " u'antidrug',\n",
       " u'antifungal',\n",
       " u'antigen',\n",
       " u'antihistamine',\n",
       " u'antihistamines',\n",
       " u'antihot',\n",
       " u'antiinflammatories',\n",
       " u'antiinflammatory',\n",
       " u'antioxidant',\n",
       " u'antioxidants',\n",
       " u'antiseizure',\n",
       " u'antiseptic',\n",
       " u'antitrypsin',\n",
       " u'antivert',\n",
       " u'antivirals',\n",
       " u'antopal',\n",
       " u'antovert',\n",
       " u'ants',\n",
       " u'anus',\n",
       " u'anusol',\n",
       " u'anxiety',\n",
       " u'anxiety depression',\n",
       " u'anxietys',\n",
       " u'anxietywise',\n",
       " u'anxious',\n",
       " u'anxiousness',\n",
       " u'anybody',\n",
       " u'anybodys',\n",
       " u'anyeither',\n",
       " u'anyhe',\n",
       " u'anymore',\n",
       " u'anyones',\n",
       " u'anyplace',\n",
       " u'anyswollen',\n",
       " u'anythings',\n",
       " u'anytime',\n",
       " u'anyways',\n",
       " u'anyyou',\n",
       " u'aone',\n",
       " u'aorta',\n",
       " u'aortic',\n",
       " u'ap',\n",
       " u'apart',\n",
       " u'apartment',\n",
       " u'apartments',\n",
       " u'aperson',\n",
       " u'apnea',\n",
       " u'apologize',\n",
       " u'app',\n",
       " u'apparently',\n",
       " u'apparentlyill',\n",
       " u'appeals',\n",
       " u'appear',\n",
       " u'appeared',\n",
       " u'appearing',\n",
       " u'appears',\n",
       " u'appendectomy',\n",
       " u'appendix',\n",
       " u'appetite',\n",
       " u'appetites',\n",
       " u'applaud',\n",
       " u'apple',\n",
       " u'apples',\n",
       " u'appliance',\n",
       " u'application',\n",
       " u'applicator',\n",
       " u'applied',\n",
       " u'apply',\n",
       " u'applying',\n",
       " u'appointment',\n",
       " u'appointments',\n",
       " u'appreciate',\n",
       " u'appreciated',\n",
       " u'appreciates',\n",
       " u'appreciation',\n",
       " u'appreciative',\n",
       " u'apprenticeship',\n",
       " u'approach',\n",
       " u'approached',\n",
       " u'approaches',\n",
       " u'appropriate',\n",
       " u'appropriately',\n",
       " u'approval',\n",
       " u'approve',\n",
       " u'approved',\n",
       " u'approximately',\n",
       " u'approximating',\n",
       " u'april',\n",
       " u'apron',\n",
       " u'apuffing',\n",
       " u'aqua',\n",
       " u'arab',\n",
       " u'arabia',\n",
       " u'arabic',\n",
       " u'arabs',\n",
       " u'arch',\n",
       " u'arches',\n",
       " u'area',\n",
       " u'areas',\n",
       " u'arent',\n",
       " u'arethey',\n",
       " u'areyou',\n",
       " u'argh',\n",
       " u'argue',\n",
       " u'arguing',\n",
       " u'argument',\n",
       " u'aright',\n",
       " u'arimidex',\n",
       " u'arise',\n",
       " u'arises',\n",
       " u'arising',\n",
       " u'arm',\n",
       " u'armll',\n",
       " u'armpit',\n",
       " u'armpits',\n",
       " u'arms',\n",
       " u'army',\n",
       " u'aromasin',\n",
       " u'aromatase',\n",
       " u'arrange',\n",
       " u'arranged',\n",
       " u'arrangement',\n",
       " u'arrangements',\n",
       " u'arranging',\n",
       " u'arresting',\n",
       " u'arrhythmia',\n",
       " u'arrhythmias',\n",
       " u'arrived',\n",
       " u'arrives',\n",
       " u'arrows',\n",
       " u'arsenal',\n",
       " u'art',\n",
       " u'arterial',\n",
       " u'arteries',\n",
       " u'arteriotomy',\n",
       " u'artery',\n",
       " u'arthraligia',\n",
       " u'arthritic',\n",
       " u'arthritis',\n",
       " u'arthritises',\n",
       " u'arthro',\n",
       " u'arthropathy',\n",
       " u'arthroscopic',\n",
       " u'arthroscopically',\n",
       " u'arthroscopics',\n",
       " u'arthroscopy',\n",
       " u'arthur',\n",
       " u'article',\n",
       " u'articles',\n",
       " u'articulate',\n",
       " u'artif',\n",
       " u'artifacts',\n",
       " u'artificial',\n",
       " u'artificially',\n",
       " u'artist',\n",
       " u'artsy',\n",
       " u'ascertain',\n",
       " u'ash',\n",
       " u'ashtray',\n",
       " u'asia',\n",
       " u'asians',\n",
       " u'aside',\n",
       " u'asked',\n",
       " u'asking',\n",
       " u'asks',\n",
       " u'asleep',\n",
       " u'asmacort',\n",
       " u'asoriatic',\n",
       " u'asp',\n",
       " u'asparagus',\n",
       " u'aspect',\n",
       " u'aspects',\n",
       " u'asphalt',\n",
       " u'aspirated',\n",
       " u'aspirations',\n",
       " u'aspirin',\n",
       " u'aspirins',\n",
       " u'ass',\n",
       " u'assembly',\n",
       " u'assess',\n",
       " u'assessment',\n",
       " u'asset',\n",
       " u'assi',\n",
       " u'assign',\n",
       " u'assigned',\n",
       " u'assimilate',\n",
       " u'assist',\n",
       " u'assistance',\n",
       " u'assistant',\n",
       " u'assistants',\n",
       " u'assisted',\n",
       " u'assisting',\n",
       " u'associate',\n",
       " u'associated',\n",
       " u'associates',\n",
       " u'associating',\n",
       " u'association',\n",
       " u'assume',\n",
       " u'assumed',\n",
       " u'assuming',\n",
       " u'assumption',\n",
       " u'assure',\n",
       " u'astepro',\n",
       " u'asthma',\n",
       " u'asthmacore',\n",
       " u'asthmas',\n",
       " u'asthmatic',\n",
       " u'asthmatics',\n",
       " u'asymmetrical',\n",
       " u'asymmetry',\n",
       " u'asymptomatic',\n",
       " u'ate',\n",
       " u'atelectasis',\n",
       " u'atelenol',\n",
       " u'atenalol',\n",
       " u'atenilol',\n",
       " u'atenolol',\n",
       " u'atenololif',\n",
       " u'atenololone',\n",
       " u'atenynol',\n",
       " u'athe',\n",
       " u'atheroscler',\n",
       " u'athlete',\n",
       " u'athletes',\n",
       " u'athletic',\n",
       " u'atkins',\n",
       " u'atom',\n",
       " u'atrial',\n",
       " u'atrial fibrillation',\n",
       " u'atribuforlation',\n",
       " u'atrium',\n",
       " u'atrophic',\n",
       " u'atrophy',\n",
       " u'atrovent',\n",
       " u'ats',\n",
       " u'attach',\n",
       " u'attached',\n",
       " u'attaches',\n",
       " u'attack',\n",
       " u'attacks',\n",
       " u'attempt',\n",
       " u'attempted',\n",
       " u'attempts',\n",
       " u'attend',\n",
       " u'attendants',\n",
       " u'attending',\n",
       " u'attends',\n",
       " u'attention',\n",
       " u'attenuated',\n",
       " u'atthey',\n",
       " u'attitude',\n",
       " u'attorney',\n",
       " u'attraction',\n",
       " u'attractive',\n",
       " u'attribute',\n",
       " u'attributed',\n",
       " u'attributing',\n",
       " u'attuned',\n",
       " u'atylenol',\n",
       " u'atypical',\n",
       " u'au',\n",
       " u'audience',\n",
       " u'audio',\n",
       " u'audiologist',\n",
       " u'audiology',\n",
       " u'auditioning',\n",
       " u'augments',\n",
       " u'august',\n",
       " u'aunt',\n",
       " u'auntie',\n",
       " u'aunts',\n",
       " u'aura',\n",
       " u'auspicious',\n",
       " u'authorities',\n",
       " u'authorization',\n",
       " u'authorize',\n",
       " u'auto',\n",
       " u'autoimmune',\n",
       " u'automatic',\n",
       " u'automatically',\n",
       " u'automobiles',\n",
       " u'automotive',\n",
       " u'autonomic',\n",
       " u'autopsy',\n",
       " u'autumn',\n",
       " u'availability',\n",
       " u'available',\n",
       " u'avandia',\n",
       " u'avapro',\n",
       " u'ave',\n",
       " u'aveeno',\n",
       " u'avenue',\n",
       " u'average',\n",
       " u'averaged',\n",
       " u'averages',\n",
       " u'avf',\n",
       " u'avid',\n",
       " u'avodart',\n",
       " u'avoid',\n",
       " u'avoided',\n",
       " u'avoiding',\n",
       " u'aw',\n",
       " u'awake',\n",
       " u'awakened',\n",
       " u'awakening',\n",
       " u'award',\n",
       " u'aware',\n",
       " u'awareness',\n",
       " u'awareyou',\n",
       " u'away',\n",
       " u'awaynow',\n",
       " u'awesome',\n",
       " u'awful',\n",
       " u'awfully',\n",
       " u'awhh',\n",
       " u'awhil',\n",
       " u'awhile',\n",
       " u'awhiles',\n",
       " u'awkward',\n",
       " u'aww',\n",
       " u'awww',\n",
       " u'axe',\n",
       " u'axilla',\n",
       " u'axillary',\n",
       " u'axiloropathy',\n",
       " u'axis',\n",
       " u'axle',\n",
       " u'azamara',\n",
       " u'azithromycin',\n",
       " u'babe',\n",
       " u'babies',\n",
       " u'baby',\n",
       " u'baby aspirin',\n",
       " u'babys',\n",
       " u'babysit',\n",
       " u'backed',\n",
       " u'background',\n",
       " u'backing',\n",
       " u'backs',\n",
       " u'backseat',\n",
       " u'backup',\n",
       " u'backward',\n",
       " u'backwards',\n",
       " u'backwash',\n",
       " u'backyard',\n",
       " u'bacon',\n",
       " u'bacteria',\n",
       " u'bacterial',\n",
       " u'bactriban',\n",
       " u'bactrimin',\n",
       " u'bactrum',\n",
       " u'badge',\n",
       " u'badly',\n",
       " u'badminton',\n",
       " u'bag',\n",
       " u'bagel',\n",
       " u'bagels',\n",
       " u'bags',\n",
       " u'baileys',\n",
       " u'baked',\n",
       " u'baker',\n",
       " u'bakery',\n",
       " u'baking',\n",
       " u'balance',\n",
       " u'balanced',\n",
       " u'balances',\n",
       " u'bald',\n",
       " u'ball',\n",
       " u'ballen',\n",
       " u'ballgame',\n",
       " u'ballooning',\n",
       " u'ballpark',\n",
       " u'ballroom',\n",
       " u'balls',\n",
       " u'ballys',\n",
       " u'baloney',\n",
       " u'bam',\n",
       " u'bammer',\n",
       " u'banana',\n",
       " u'bananas',\n",
       " u'band',\n",
       " u'bandage',\n",
       " u'bandaid',\n",
       " u'bandaids',\n",
       " u'bands',\n",
       " u'bang',\n",
       " u'banged',\n",
       " u'banging',\n",
       " u'bangladesh',\n",
       " u'bank',\n",
       " u'bankers',\n",
       " u'banking',\n",
       " u'bankrupt',\n",
       " u'bankruptcy',\n",
       " u'banned',\n",
       " u'baptized',\n",
       " u'bar',\n",
       " u'barbells',\n",
       " u'barbeque',\n",
       " u'barbequing',\n",
       " u'bare',\n",
       " u'barely',\n",
       " u'bariatric',\n",
       " u'baritone',\n",
       " u'barium',\n",
       " u'barking',\n",
       " u'barn',\n",
       " u'barometric',\n",
       " u'barretts',\n",
       " u'barrier',\n",
       " u'bars',\n",
       " u'bartender',\n",
       " u'basal',\n",
       " u'base',\n",
       " u'baseball',\n",
       " u'based',\n",
       " u'baseline',\n",
       " u'baselines',\n",
       " u'basement',\n",
       " u'bases',\n",
       " u'basethe',\n",
       " u'basic',\n",
       " u'basically',\n",
       " u'basics',\n",
       " u'basil',\n",
       " u'basis',\n",
       " u'basket',\n",
       " u'basketball',\n",
       " u'bass',\n",
       " u'bastards',\n",
       " u'bat',\n",
       " u'bath',\n",
       " u'bathing',\n",
       " u'bathroom',\n",
       " u'baths',\n",
       " u'bathtub',\n",
       " u'battery',\n",
       " u'batting',\n",
       " u'battle',\n",
       " u'bay',\n",
       " u'bayer',\n",
       " u'bcomplex',\n",
       " u'beach',\n",
       " u'beagle',\n",
       " u'bean',\n",
       " u'beans',\n",
       " u'bear',\n",
       " u'beard',\n",
       " u'bearing',\n",
       " u'bearings',\n",
       " u'beat',\n",
       " u'beating',\n",
       " u'beats',\n",
       " u'beau',\n",
       " u'beauteous',\n",
       " u'beautician',\n",
       " u'beautiful',\n",
       " u'beautifully',\n",
       " u'beauty',\n",
       " u'beaver',\n",
       " u'becauseand',\n",
       " u'becausei',\n",
       " u'becauselet',\n",
       " u'bed',\n",
       " u'bedill',\n",
       " u'bedridden',\n",
       " u'bedroom',\n",
       " u'bedrooms',\n",
       " u'beds',\n",
       " u'bedside',\n",
       " u'bedtime',\n",
       " u'bee',\n",
       " ...]"
      ]
     },
     "execution_count": 6,
     "metadata": {},
     "output_type": "execute_result"
    }
   ],
   "source": [
    "sorted(list(mhdtrain.vocabulary))"
   ]
  },
  {
   "cell_type": "markdown",
   "metadata": {},
   "source": [
    "### Test data: Below lines will run inside the function `.predict ` or `.predict_viterbi` (for HMM)"
   ]
  },
  {
   "cell_type": "code",
   "execution_count": 7,
   "metadata": {
    "collapsed": false
   },
   "outputs": [
    {
     "name": "stdout",
     "output_type": "stream",
     "text": [
      "Loading labels file from ./label.pkl\n",
      " (Delete the file if you want to re-generate the labels)\n",
      "Loading cleaned labels file from ./label_cleaned.pkl\n",
      "Loading the vocabulary file from ./vocab.pkl\n",
      " (Delete the file if you want to re-generate the vocabulary)\n",
      "Loading and preprocessing the corpus with labels\n",
      "  Cleaning the corpus (removing punctuations..)\n",
      "Cleaning labels ..\n",
      "  16 OtherAddictions --> 37 Other\n",
      "  18 Death --> 37 Other\n",
      "  19 Bereavement --> 37 Other\n",
      "  20 PainSuffering --> 37 Other\n",
      "  24 ActivityDailyLiving --> 37 Other\n",
      "  26 Unemployment --> 37 Other\n",
      "  27 MoneyBenefits --> 37 Other\n",
      "  28 Caregiver --> 37 Other\n",
      "  31 Religion --> 37 Other\n",
      "  32 Age --> 37 Other\n",
      "  33 LivingWillAdvanceCarePlanning --> 37 Other\n",
      "  35 MDPT-Relationship --> 37 Other\n",
      "  5 Prognosis --> 37 Other\n"
     ]
    }
   ],
   "source": [
    "mhdtest = MHDTestData(te_data_file, nouns_only=False, ignore_case=True,\n",
    "                 remove_numbers=False, sub_numbers=True, stopwords_dir=\"./stopwordlists\",\n",
    "                 label_mappings=None, ngram_range=(1,1), max_np_len=2, min_wlen=1,\n",
    "                 min_dfreq=0, max_dfreq=0.8, min_sfreq=20,\n",
    "                 token_pattern=r\"(?u)[A-Za-z\\?\\!\\-\\.']+\", verbose=3,\n",
    "                 corpus_pkl='./corpus_te.pkl', tr_label_pkl='./label.pkl', tr_vocab_pkl='./vocab.pkl')"
   ]
  },
  {
   "cell_type": "markdown",
   "metadata": {},
   "source": [
    "# Models"
   ]
  },
  {
   "cell_type": "markdown",
   "metadata": {},
   "source": [
    "## 1. Logistic Regression Models\n",
    "## 1.1 Train & Predict\n",
    "### Train (This step will not needed if you're not training and loading the pre-trained model)"
   ]
  },
  {
   "cell_type": "code",
   "execution_count": 8,
   "metadata": {
    "collapsed": false,
    "scrolled": false
   },
   "outputs": [
    {
     "name": "stderr",
     "output_type": "stream",
     "text": [
      "/Users/jihyun/anaconda2/lib/python2.7/site-packages/sklearn/feature_extraction/text.py:1059: FutureWarning: Conversion of the second argument of issubdtype from `float` to `np.floating` is deprecated. In future, it will be treated as `np.float64 == np.dtype(float).type`.\n",
      "  if hasattr(X, 'dtype') and np.issubdtype(X.dtype, np.float):\n"
     ]
    },
    {
     "name": "stdout",
     "output_type": "stream",
     "text": [
      "Saving Logistic regression model to ./lrdialog_ovr.pkl\n"
     ]
    },
    {
     "data": {
      "text/plain": [
       "LogisticRegression(C=0.9, class_weight=None, dual=False, fit_intercept=True,\n",
       "          intercept_scaling=1, max_iter=100, multi_class='ovr', n_jobs=1,\n",
       "          penalty='l2', random_state=None, solver='lbfgs', tol=0.0001,\n",
       "          verbose=0, warm_start=False)"
      ]
     },
     "execution_count": 8,
     "metadata": {},
     "output_type": "execute_result"
    }
   ],
   "source": [
    "from models import LogRegDialogModel\n",
    "\n",
    "lr = LogRegDialogModel(lr_type='ovr')\n",
    "lr.fit_model(tr_data_file, penalty_type=\"l2\", reg_const=0.9,\n",
    "             model_file='./lrdialog_ovr.pkl', verbose=0)  # Saves model to model_file"
   ]
  },
  {
   "cell_type": "markdown",
   "metadata": {},
   "source": [
    "### Predict\n",
    "Prediction creates `lr.result`"
   ]
  },
  {
   "cell_type": "code",
   "execution_count": 9,
   "metadata": {
    "collapsed": false
   },
   "outputs": [
    {
     "name": "stdout",
     "output_type": "stream",
     "text": [
      "Loading labels file from ./label.pkl\n",
      " (Delete the file if you want to re-generate the labels)\n",
      "Loading cleaned labels file from ./label_cleaned.pkl\n",
      "Loading the vocabulary file from ./vocab.pkl\n",
      " (Delete the file if you want to re-generate the vocabulary)\n",
      "Loading and preprocessing the corpus with labels\n",
      "Loading the processed file from ./corpus_te.pkl\n",
      " (Delete the file if you want to re-process the corpus)\n",
      "Cleaning labels ..\n",
      "Calculating scores..\n"
     ]
    },
    {
     "name": "stderr",
     "output_type": "stream",
     "text": [
      "/Users/jihyun/anaconda2/lib/python2.7/site-packages/sklearn/metrics/classification.py:1113: UndefinedMetricWarning: Precision is ill-defined and being set to 0.0 due to no predicted samples.\n",
      "  'precision', 'predicted', average, warn_for)\n",
      "/Users/jihyun/anaconda2/lib/python2.7/site-packages/sklearn/metrics/classification.py:1113: UndefinedMetricWarning: F-score is ill-defined and being set to 0.0 due to no predicted samples.\n",
      "  'precision', 'predicted', average, warn_for)\n"
     ]
    },
    {
     "data": {
      "text/plain": [
       "<models.DialogResult instance at 0x11dc6c3b0>"
      ]
     },
     "execution_count": 9,
     "metadata": {},
     "output_type": "execute_result"
    }
   ],
   "source": [
    "lr.predict(te_data_file, verbose=1)"
   ]
  },
  {
   "cell_type": "markdown",
   "metadata": {},
   "source": [
    "### Result scores"
   ]
  },
  {
   "cell_type": "code",
   "execution_count": 10,
   "metadata": {
    "collapsed": false
   },
   "outputs": [
    {
     "data": {
      "text/plain": [
       "{'accuracy': 34.735449735449734,\n",
       " 'auc': 0.5425712732040822,\n",
       " 'auc_w': 0.572677043648532,\n",
       " 'f1score': 0.14403660616037472,\n",
       " 'f1score_w': 0.2910227733934047,\n",
       " 'precision': 0.38264151805597885,\n",
       " 'precision_w': 0.42059459080558814,\n",
       " 'recall': 0.11948464842998098,\n",
       " 'recall_w': 0.3783846298101865,\n",
       " 'rprecision': 0.10519838445328382,\n",
       " 'rprecision_w': 0.20626242019434446}"
      ]
     },
     "execution_count": 10,
     "metadata": {},
     "output_type": "execute_result"
    }
   ],
   "source": [
    "lr.result.scores"
   ]
  },
  {
   "cell_type": "markdown",
   "metadata": {},
   "source": [
    "Can print and save it to a file"
   ]
  },
  {
   "cell_type": "code",
   "execution_count": 11,
   "metadata": {
    "collapsed": false
   },
   "outputs": [
    {
     "name": "stdout",
     "output_type": "stream",
     "text": [
      "model,accuracy,precision_w,recall_w,auc_w,rprecision_w,f1score_w,precision,recall,auc,rprecision,f1score\n",
      "LogReg_ovr_l2_0.9 ,34.7354 ,0.4206 ,0.3784 ,0.5727 ,0.2063 ,0.2910 ,0.3826 ,0.1195 ,0.5426 ,0.1052 ,0.1440\n"
     ]
    }
   ],
   "source": [
    "lr.result.print_scores(filename='./result_in_diff_metrics.csv')"
   ]
  },
  {
   "cell_type": "markdown",
   "metadata": {},
   "source": [
    "## 1.2 Load & Predict\n",
    "`lr2` loads the model that was trained above (part that we're going to release)"
   ]
  },
  {
   "cell_type": "code",
   "execution_count": 12,
   "metadata": {
    "collapsed": false
   },
   "outputs": [
    {
     "name": "stdout",
     "output_type": "stream",
     "text": [
      "Loading Logistic regression model to ./lrdialog_ovr.pkl\n"
     ]
    }
   ],
   "source": [
    "lr2 = LogRegDialogModel(lr_type='ovr')\n",
    "lr2.load_model(model_file=\"./lrdialog_ovr.pkl\")"
   ]
  },
  {
   "cell_type": "code",
   "execution_count": 13,
   "metadata": {
    "collapsed": false
   },
   "outputs": [
    {
     "name": "stdout",
     "output_type": "stream",
     "text": [
      "Calculating scores..\n"
     ]
    },
    {
     "data": {
      "text/plain": [
       "<models.DialogResult instance at 0x131635b00>"
      ]
     },
     "execution_count": 13,
     "metadata": {},
     "output_type": "execute_result"
    }
   ],
   "source": [
    "lr2.predict(te_data_file, verbose=0)"
   ]
  },
  {
   "cell_type": "code",
   "execution_count": 14,
   "metadata": {
    "collapsed": false
   },
   "outputs": [
    {
     "data": {
      "text/plain": [
       "{'accuracy': 34.735449735449734,\n",
       " 'auc': 0.5425712732040822,\n",
       " 'auc_w': 0.572677043648532,\n",
       " 'f1score': 0.14403660616037472,\n",
       " 'f1score_w': 0.2910227733934047,\n",
       " 'precision': 0.38264151805597885,\n",
       " 'precision_w': 0.42059459080558814,\n",
       " 'recall': 0.11948464842998098,\n",
       " 'recall_w': 0.3783846298101865,\n",
       " 'rprecision': 0.10519838445328382,\n",
       " 'rprecision_w': 0.20626242019434446}"
      ]
     },
     "execution_count": 14,
     "metadata": {},
     "output_type": "execute_result"
    }
   ],
   "source": [
    "lr2.result.scores"
   ]
  },
  {
   "cell_type": "code",
   "execution_count": 15,
   "metadata": {
    "collapsed": true
   },
   "outputs": [],
   "source": [
    "# Below code is just to test out if the HMM on top of any base class runs fine by loading predictions and out probs.\n",
    "import cPickle as cp\n",
    "with open('./sample_prob.pkl', 'wb') as f:\n",
    "    cp.dump(lr2.result.output_prob, f)\n",
    "with open('./sample_pred.pkl', 'wb') as f:\n",
    "    cp.dump(lr2.result.predictions, f)"
   ]
  },
  {
   "cell_type": "markdown",
   "metadata": {},
   "source": [
    "## 2. HMM on top of LR\n",
    "Running HMM requires you to have `base_model`, which should be trained in advance and given as an argument."
   ]
  },
  {
   "cell_type": "code",
   "execution_count": 16,
   "metadata": {
    "collapsed": false
   },
   "outputs": [
    {
     "name": "stdout",
     "output_type": "stream",
     "text": [
      "Loading and preprocessing the corpus with labels\n",
      "Loading the processed file from ./corpus.pkl\n",
      " (Delete the file if you want to re-process the corpus)\n",
      "Loading the vocabulary file from ./vocab.pkl\n",
      " (Delete the file if you want to re-generate the vocabulary)\n",
      "Loading labels file from ./label.pkl\n",
      " (Delete the file if you want to re-generate the labels)\n",
      "Cleaning labels ..\n",
      "Getting lists of valid session/utterance IDs that have both text and labels\n",
      "Saving model to hmmdialog_lrovr.pkl\n"
     ]
    }
   ],
   "source": [
    "from models import HMMDialogModel\n",
    "\n",
    "hmmlr = HMMDialogModel(base_model=lr)\n",
    "hmmlr.fit_model(tr_data_file, model_file='hmmdialog_lrovr.pkl')"
   ]
  },
  {
   "cell_type": "code",
   "execution_count": 17,
   "metadata": {
    "collapsed": false
   },
   "outputs": [
    {
     "name": "stdout",
     "output_type": "stream",
     "text": [
      "Loading labels file from ./label.pkl\n",
      " (Delete the file if you want to re-generate the labels)\n",
      "Loading cleaned labels file from ./label_cleaned.pkl\n",
      "Loading the vocabulary file from ./vocab.pkl\n",
      " (Delete the file if you want to re-generate the vocabulary)\n",
      "Loading and preprocessing the corpus with labels\n",
      "Loading the processed file from ./corpus_te.pkl\n",
      " (Delete the file if you want to re-process the corpus)\n",
      "Cleaning labels ..\n",
      "Calculating scores..\n"
     ]
    },
    {
     "data": {
      "text/plain": [
       "<models.DialogResult instance at 0x1566cef38>"
      ]
     },
     "execution_count": 17,
     "metadata": {},
     "output_type": "execute_result"
    }
   ],
   "source": [
    "hmmlr.predict_viterbi(te_data_file)"
   ]
  },
  {
   "cell_type": "code",
   "execution_count": 18,
   "metadata": {
    "collapsed": false
   },
   "outputs": [
    {
     "data": {
      "text/plain": [
       "{'accuracy': 60.826719576719576,\n",
       " 'auc': 0.7386513157025536,\n",
       " 'auc_w': 0.7880021417563148,\n",
       " 'f1score': 0.4611548266387942,\n",
       " 'f1score_w': 0.6094283413948923,\n",
       " 'precision': 0.47253030001967306,\n",
       " 'precision_w': 0.6258756621745318,\n",
       " 'recall': 0.4944229819272277,\n",
       " 'recall_w': 0.614199668112505,\n",
       " 'rprecision': 0.4151477738181185,\n",
       " 'rprecision_w': 0.5668641644422592}"
      ]
     },
     "execution_count": 18,
     "metadata": {},
     "output_type": "execute_result"
    }
   ],
   "source": [
    "hmmlr.result.scores"
   ]
  },
  {
   "cell_type": "markdown",
   "metadata": {},
   "source": [
    "## 3. HMM on top of other output probabilities\n",
    "\n",
    "If we have a set of results from another base model (independent model) that is trained somewhere else (e.g. output from RNN), <br>\n",
    "we can load the predictions and output probabilities and plug them into HMM. <br>\n",
    "They should be the result of the same data as `mhdtest`.\n",
    "- `predictions`:  Should have a list of sessions, where each session is a 2-d array with size `(N,T)`, where `N` is the number of utterances in the session and `T` is the number of topics (labels). Each entry is the $p(topic|utterance)$ in each session.  <br> Type: `list[ 2-d np.array[float] ]`.\n",
    "- `output_probs`: Should have a list of sessions, where each session is a list of utterance predictions within that session. <br> Type: `list[list[int]]` or `list[np.array[int]]`\n",
    "\n",
    "\n",
    "After loading predictions and probabilities, a base model object should have the following data\n",
    "and it can be plugged in as an argument to HMMDialogModel\n",
    "- base_model.result\n",
    "- base_model.result.output_prob\n",
    "- base_model.model_info"
   ]
  },
  {
   "cell_type": "code",
   "execution_count": 19,
   "metadata": {
    "collapsed": true
   },
   "outputs": [],
   "source": [
    "from models import DialogModel, HMMDialogModel"
   ]
  },
  {
   "cell_type": "code",
   "execution_count": 20,
   "metadata": {
    "collapsed": true
   },
   "outputs": [],
   "source": [
    "predfile = './sample_pred.pkl'\n",
    "outprobfile = './sample_prob.pkl'"
   ]
  },
  {
   "cell_type": "markdown",
   "metadata": {},
   "source": [
    "The results are not from RNN, but let's say we've loaded the results from RNN model"
   ]
  },
  {
   "cell_type": "code",
   "execution_count": 21,
   "metadata": {
    "collapsed": false,
    "scrolled": true
   },
   "outputs": [
    {
     "name": "stdout",
     "output_type": "stream",
     "text": [
      "Loading labels file from ./label.pkl\n",
      " (Delete the file if you want to re-generate the labels)\n",
      "Loading cleaned labels file from ./label_cleaned.pkl\n",
      "Loading the vocabulary file from ./vocab.pkl\n",
      " (Delete the file if you want to re-generate the vocabulary)\n",
      "Loading and preprocessing the corpus with labels\n",
      "Loading the processed file from ./corpus_te.pkl\n",
      " (Delete the file if you want to re-process the corpus)\n",
      "Cleaning labels ..\n",
      "Calculating scores..\n"
     ]
    },
    {
     "data": {
      "text/plain": [
       "<models.DialogResult instance at 0x12876a710>"
      ]
     },
     "execution_count": 21,
     "metadata": {},
     "output_type": "execute_result"
    }
   ],
   "source": [
    "rnn = DialogModel()\n",
    "rnn.load_results(te_data_file, model_info=\"RNN\", marginals=None, predictions=predfile, output_probs=outprobfile)"
   ]
  },
  {
   "cell_type": "code",
   "execution_count": 22,
   "metadata": {
    "collapsed": false
   },
   "outputs": [
    {
     "name": "stdout",
     "output_type": "stream",
     "text": [
      "Loading and preprocessing the corpus with labels\n",
      "Loading the processed file from ./corpus.pkl\n",
      " (Delete the file if you want to re-process the corpus)\n",
      "Loading the vocabulary file from ./vocab.pkl\n",
      " (Delete the file if you want to re-generate the vocabulary)\n",
      "Loading labels file from ./label.pkl\n",
      " (Delete the file if you want to re-generate the labels)\n",
      "Cleaning labels ..\n",
      "Getting lists of valid session/utterance IDs that have both text and labels\n",
      "Saving model to ./hmmdialog.pkl\n"
     ]
    }
   ],
   "source": [
    "hmmrnn = HMMDialogModel(base_model=rnn)\n",
    "hmmrnn.fit_model(tr_data_file)"
   ]
  },
  {
   "cell_type": "code",
   "execution_count": 23,
   "metadata": {
    "collapsed": false,
    "scrolled": true
   },
   "outputs": [
    {
     "name": "stdout",
     "output_type": "stream",
     "text": [
      "Loading labels file from ./label.pkl\n",
      " (Delete the file if you want to re-generate the labels)\n",
      "Loading cleaned labels file from ./label_cleaned.pkl\n",
      "Loading the vocabulary file from ./vocab.pkl\n",
      " (Delete the file if you want to re-generate the vocabulary)\n",
      "Loading and preprocessing the corpus with labels\n",
      "Loading the processed file from ./corpus_te.pkl\n",
      " (Delete the file if you want to re-process the corpus)\n",
      "Cleaning labels ..\n",
      "Calculating scores..\n"
     ]
    },
    {
     "data": {
      "text/plain": [
       "<models.DialogResult instance at 0x1662f5ea8>"
      ]
     },
     "execution_count": 23,
     "metadata": {},
     "output_type": "execute_result"
    }
   ],
   "source": [
    "hmmrnn.predict_viterbi(te_data_file)"
   ]
  },
  {
   "cell_type": "markdown",
   "metadata": {},
   "source": [
    "In this case we should have the same result as the result at section 2. since we've loaded the same result from LR."
   ]
  },
  {
   "cell_type": "code",
   "execution_count": 24,
   "metadata": {
    "collapsed": false
   },
   "outputs": [
    {
     "data": {
      "text/plain": [
       "{'accuracy': 60.826719576719576,\n",
       " 'auc': 0.7386513157025536,\n",
       " 'auc_w': 0.7880021417563148,\n",
       " 'f1score': 0.4611548266387942,\n",
       " 'f1score_w': 0.6094283413948923,\n",
       " 'precision': 0.47253030001967306,\n",
       " 'precision_w': 0.6258756621745318,\n",
       " 'recall': 0.4944229819272277,\n",
       " 'recall_w': 0.614199668112505,\n",
       " 'rprecision': 0.4151477738181185,\n",
       " 'rprecision_w': 0.5668641644422592}"
      ]
     },
     "execution_count": 24,
     "metadata": {},
     "output_type": "execute_result"
    }
   ],
   "source": [
    "hmmlr.result.scores"
   ]
  },
  {
   "cell_type": "code",
   "execution_count": null,
   "metadata": {
    "collapsed": true
   },
   "outputs": [],
   "source": []
  }
 ],
 "metadata": {
  "anaconda-cloud": {},
  "kernelspec": {
   "display_name": "Python [conda root]",
   "language": "python",
   "name": "conda-root-py"
  },
  "language_info": {
   "codemirror_mode": {
    "name": "ipython",
    "version": 2
   },
   "file_extension": ".py",
   "mimetype": "text/x-python",
   "name": "python",
   "nbconvert_exporter": "python",
   "pygments_lexer": "ipython2",
   "version": "2.7.12"
  }
 },
 "nbformat": 4,
 "nbformat_minor": 1
}
